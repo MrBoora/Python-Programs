{
  "nbformat": 4,
  "nbformat_minor": 0,
  "metadata": {
    "colab": {
      "provenance": [],
      "authorship_tag": "ABX9TyPRIfF0isywmEeXFbc2CxIN",
      "include_colab_link": true
    },
    "kernelspec": {
      "name": "python3",
      "display_name": "Python 3"
    },
    "language_info": {
      "name": "python"
    }
  },
  "cells": [
    {
      "cell_type": "markdown",
      "metadata": {
        "id": "view-in-github",
        "colab_type": "text"
      },
      "source": [
        "<a href=\"https://colab.research.google.com/github/MrBoora/Python-Programs/blob/main/Python_Loops.ipynb\" target=\"_parent\"><img src=\"https://colab.research.google.com/assets/colab-badge.svg\" alt=\"Open In Colab\"/></a>"
      ]
    },
    {
      "cell_type": "code",
      "execution_count": null,
      "metadata": {
        "colab": {
          "base_uri": "https://localhost:8080/"
        },
        "id": "SmTFEnNzhjYc",
        "outputId": "9d93e139-00ee-4ade-e123-85b5ff50321e"
      },
      "outputs": [
        {
          "output_type": "stream",
          "name": "stdout",
          "text": [
            "Hello\n"
          ]
        }
      ],
      "source": [
        "print('Hello')"
      ]
    },
    {
      "cell_type": "code",
      "source": [
        "a = 10\n",
        "\n",
        "if a > 5 and a <= 15:\n",
        "   print(a)"
      ],
      "metadata": {
        "colab": {
          "base_uri": "https://localhost:8080/"
        },
        "id": "GwE4hdExhxQl",
        "outputId": "02324bc2-9075-4865-e081-b2217f91e465"
      },
      "execution_count": null,
      "outputs": [
        {
          "output_type": "stream",
          "name": "stdout",
          "text": [
            "10\n"
          ]
        }
      ]
    },
    {
      "cell_type": "code",
      "source": [
        "a = 16\n",
        "\n",
        "if a > 5 and a <= 15:\n",
        "   print(a)\n",
        "else:\n",
        "   print(\"A does not satisfy the condition\")"
      ],
      "metadata": {
        "colab": {
          "base_uri": "https://localhost:8080/"
        },
        "id": "uzN2FpnnimMe",
        "outputId": "6cce2e7a-c4cd-4343-ba95-59beff25745e"
      },
      "execution_count": null,
      "outputs": [
        {
          "output_type": "stream",
          "name": "stdout",
          "text": [
            "A does not satisfy the condition\n"
          ]
        }
      ]
    },
    {
      "cell_type": "code",
      "source": [
        "a = 6\n",
        "\n",
        "if a % 2 == 0:\n",
        "  print(\"A is even\")\n",
        "else:\n",
        "  print(\"A is odd\")"
      ],
      "metadata": {
        "colab": {
          "base_uri": "https://localhost:8080/"
        },
        "id": "PKyDI3KNjEfa",
        "outputId": "40ef93ff-6c68-4fbd-e89e-66d80147a6bc"
      },
      "execution_count": null,
      "outputs": [
        {
          "output_type": "stream",
          "name": "stdout",
          "text": [
            "A is even\n"
          ]
        }
      ]
    },
    {
      "cell_type": "code",
      "source": [
        "a = 7\n",
        "\n",
        "if a >= 1 and a <= 10:\n",
        "  print(\"A belongs between 1 to 10\")\n",
        "else:\n",
        "  print(\"A does not belong between 1 to 10\")"
      ],
      "metadata": {
        "colab": {
          "base_uri": "https://localhost:8080/"
        },
        "id": "KEH3mTgolUfA",
        "outputId": "4c42359a-2dce-4818-8bf2-6e118f2091d0"
      },
      "execution_count": 22,
      "outputs": [
        {
          "output_type": "stream",
          "name": "stdout",
          "text": [
            "A belongs between 1 to 10\n"
          ]
        }
      ]
    },
    {
      "cell_type": "code",
      "source": [
        "marks = 88\n",
        "\n",
        "if marks <= 100 and marks > 90:\n",
        "  print(\"First Division\")\n",
        "\n",
        "elif marks <= 90 and marks > 80:\n",
        "  print(\"Second Division\")\n",
        "\n",
        "elif marks <= 80 and marks > 60:\n",
        "  print(\"Third Division\")\n",
        "\n",
        "elif marks <= 60 and marks > 40:\n",
        "  print(\"Fourth Division\")\n",
        "\n",
        "elif marks <= 40:\n",
        "  print(\"Fail\")"
      ],
      "metadata": {
        "colab": {
          "base_uri": "https://localhost:8080/"
        },
        "id": "QNI3qP9_mDoC",
        "outputId": "3ec0e025-e290-4806-a1b9-6a0a3a76e9a6"
      },
      "execution_count": 30,
      "outputs": [
        {
          "output_type": "stream",
          "name": "stdout",
          "text": [
            "Second Division\n"
          ]
        }
      ]
    },
    {
      "cell_type": "code",
      "source": [
        "a = 10\n",
        "while a <= 20:\n",
        "    if a % 2 == 0:\n",
        "      print(a)\n",
        "    a += 1"
      ],
      "metadata": {
        "colab": {
          "base_uri": "https://localhost:8080/"
        },
        "id": "aOFwK31Rno_E",
        "outputId": "84845d1b-2044-4900-d19e-d033dc2d6fee"
      },
      "execution_count": 36,
      "outputs": [
        {
          "output_type": "stream",
          "name": "stdout",
          "text": [
            "10\n",
            "12\n",
            "14\n",
            "16\n",
            "18\n",
            "20\n"
          ]
        }
      ]
    },
    {
      "cell_type": "code",
      "source": [
        "for a in range(10, 21):\n",
        "   if a % 2 == 0:\n",
        "     print(a)\n",
        "   a += 1"
      ],
      "metadata": {
        "colab": {
          "base_uri": "https://localhost:8080/"
        },
        "id": "HL_WghXpoSON",
        "outputId": "dc170332-98fd-4f96-afbc-2cd9f57e665f"
      },
      "execution_count": 38,
      "outputs": [
        {
          "output_type": "stream",
          "name": "stdout",
          "text": [
            "10\n",
            "12\n",
            "14\n",
            "16\n",
            "18\n",
            "20\n"
          ]
        }
      ]
    }
  ]
}